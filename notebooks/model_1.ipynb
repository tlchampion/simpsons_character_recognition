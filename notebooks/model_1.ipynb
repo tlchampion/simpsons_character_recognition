{
  "cells": [
    {
      "cell_type": "markdown",
      "metadata": {
        "id": "view-in-github",
        "colab_type": "text"
      },
      "source": [
        "<a href=\"https://colab.research.google.com/github/tlchampion/simpsons_character_recognition/blob/main/notebooks/model_1.ipynb\" target=\"_parent\"><img src=\"https://colab.research.google.com/assets/colab-badge.svg\" alt=\"Open In Colab\"/></a>"
      ]
    },
    {
      "cell_type": "markdown",
      "metadata": {
        "id": "BF_3cuU28J4B"
      },
      "source": [
        "# Purpose"
      ]
    },
    {
      "cell_type": "markdown",
      "metadata": {
        "id": "xNXpmlzr8SMT"
      },
      "source": [
        "# Setup Environment"
      ]
    },
    {
      "cell_type": "markdown",
      "metadata": {
        "id": "ejJ-3hnz8V5J"
      },
      "source": [
        "## Mount google drive"
      ]
    },
    {
      "cell_type": "code",
      "execution_count": null,
      "metadata": {
        "colab": {
          "base_uri": "https://localhost:8080/"
        },
        "id": "w9s1-Pw27rUW",
        "outputId": "e086806a-7dea-4be1-ae7c-c80d0e58bea0"
      },
      "outputs": [
        {
          "output_type": "stream",
          "name": "stdout",
          "text": [
            "Mounted at /content/drive\n"
          ]
        }
      ],
      "source": [
        "from google.colab import drive\n",
        "drive.mount('/content/drive')"
      ]
    },
    {
      "cell_type": "markdown",
      "metadata": {
        "id": "pmLgo9AK8ZNd"
      },
      "source": [
        "## Install and import modules"
      ]
    },
    {
      "cell_type": "code",
      "execution_count": null,
      "metadata": {
        "colab": {
          "base_uri": "https://localhost:8080/"
        },
        "id": "PqOqWak376OF",
        "outputId": "b8f1085d-c7eb-4cc1-b9d9-beb21f88dec5"
      },
      "outputs": [
        {
          "output_type": "stream",
          "name": "stdout",
          "text": [
            "Collecting python-dotenv\n",
            "  Downloading python_dotenv-0.19.2-py2.py3-none-any.whl (17 kB)\n",
            "Installing collected packages: python-dotenv\n",
            "Successfully installed python-dotenv-0.19.2\n"
          ]
        }
      ],
      "source": [
        "! pip install python-dotenv"
      ]
    },
    {
      "cell_type": "code",
      "execution_count": null,
      "metadata": {
        "id": "etWlu9T-7yU7"
      },
      "outputs": [],
      "source": [
        "import os\n",
        "import tensorflow as tf\n",
        "import numpy as np\n",
        "import pandas as pd\n",
        "import PIL \n",
        "import PIL.Image\n",
        "import pathlib\n",
        "import matplotlib.pyplot as plt\n",
        "import matplotlib.image as mpimg\n",
        "import random\n",
        "from pathlib import Path\n",
        "from tensorflow.keras.preprocessing.image import ImageDataGenerator\n",
        "import sys\n",
        "sys.path.insert(0,\"/content/drive/My Drive/Projects/simpsons_character_recognition/simpsons_images\")\n",
        "from dotenv import find_dotenv, load_dotenv"
      ]
    },
    {
      "cell_type": "code",
      "execution_count": null,
      "metadata": {
        "id": "Iti_Qiic8sK-"
      },
      "outputs": [],
      "source": [
        "from d01_data import make_dataset"
      ]
    },
    {
      "cell_type": "code",
      "execution_count": null,
      "metadata": {
        "id": "r7rWvuuHC3FS"
      },
      "outputs": [],
      "source": [
        "from tensorflow.keras.optimizers import Adam\n",
        "from tensorflow.keras.layers import Dense, Flatten, Conv2D, MaxPool2D, Activation\n",
        "from tensorflow.keras import Sequential"
      ]
    },
    {
      "cell_type": "markdown",
      "metadata": {
        "id": "sIhAxMz59jEw"
      },
      "source": [
        "# Copy image files to drive local to colab instance\n",
        "\n",
        "\n",
        "\n"
      ]
    },
    {
      "cell_type": "code",
      "source": [
        "%cp -r /content/drive/MyDrive/Projects/simpsons_character_recognition/data /content/data"
      ],
      "metadata": {
        "id": "55HDki7SpMGu"
      },
      "execution_count": null,
      "outputs": []
    },
    {
      "cell_type": "markdown",
      "metadata": {
        "id": "4rdKDj6n8oIu"
      },
      "source": [
        "# Import Data"
      ]
    },
    {
      "cell_type": "code",
      "execution_count": null,
      "metadata": {
        "id": "PCTPmO2D8p5F"
      },
      "outputs": [],
      "source": [
        "train_directory = os.path.join(os.getcwd(),'data/images/simpsons_dataset')\n",
        "test_directory = os.path.join(os.getcwd(),'data/images/simpsons_testset')\n",
        "test_labels = os.path.join(os.getcwd(),'data/images/test_labels.csv')\n"
      ]
    },
    {
      "cell_type": "code",
      "execution_count": null,
      "metadata": {
        "colab": {
          "base_uri": "https://localhost:8080/"
        },
        "id": "qoYMc1N79fJF",
        "outputId": "a23e4917-87af-4fed-a0fc-e8cbb3443756"
      },
      "outputs": [
        {
          "output_type": "stream",
          "name": "stdout",
          "text": [
            "Found 16764 images belonging to 42 classes.\n",
            "Found 4169 images belonging to 42 classes.\n",
            "Found 990 validated image filenames.\n"
          ]
        }
      ],
      "source": [
        "datagen, datagen_test, train, validation, test = make_dataset.create_datasets(train_directory, test_directory, test_labels)"
      ]
    },
    {
      "cell_type": "markdown",
      "metadata": {
        "id": "GuK5kpzO8hp7"
      },
      "source": [
        "# Setup Model"
      ]
    },
    {
      "cell_type": "code",
      "source": [
        "early_stop = tf.keras.callbacks.EarlyStopping(\n",
        "    monitor='val_loss', min_delta=0, patience=5, verbose=0,\n",
        "    mode='auto', baseline=None, restore_best_weights=False\n",
        ")\n",
        "\n",
        "checkpoint_filepath = '/content/drive/MyDrive/Projects/simpsons_character_recognition/callbacks'\n",
        "checkpoints = tf.keras.callbacks.ModelCheckpoint(\n",
        "    checkpoint_filepath, monitor='val_loss', verbose=0, save_best_only=True,\n",
        "    save_weights_only=False, mode='auto', save_freq='epoch',\n",
        "    options=None, initial_value_threshold=None\n",
        ")"
      ],
      "metadata": {
        "id": "uWQA33zvqQuJ"
      },
      "execution_count": null,
      "outputs": []
    },
    {
      "cell_type": "code",
      "execution_count": null,
      "metadata": {
        "colab": {
          "base_uri": "https://localhost:8080/"
        },
        "id": "3ZCZOLMb8H2A",
        "outputId": "bb5d90dd-9c13-46c5-ea7b-c00399c4a4ea"
      },
      "outputs": [
        {
          "output_type": "stream",
          "name": "stdout",
          "text": [
            "Epoch 1/5\n",
            "524/524 [==============================] - 81s 136ms/step - loss: 2.7015 - accuracy: 0.2492 - val_loss: 2.5450 - val_accuracy: 0.3245\n",
            "Epoch 2/5\n",
            "524/524 [==============================] - 71s 135ms/step - loss: 2.1005 - accuracy: 0.4278 - val_loss: 2.3673 - val_accuracy: 0.3799\n",
            "Epoch 3/5\n",
            "524/524 [==============================] - 71s 136ms/step - loss: 1.8640 - accuracy: 0.4891 - val_loss: 2.3261 - val_accuracy: 0.3917\n",
            "Epoch 4/5\n",
            "524/524 [==============================] - 71s 136ms/step - loss: 1.6930 - accuracy: 0.5346 - val_loss: 2.3130 - val_accuracy: 0.4054\n",
            "Epoch 5/5\n",
            "524/524 [==============================] - 71s 135ms/step - loss: 1.5738 - accuracy: 0.5700 - val_loss: 2.4230 - val_accuracy: 0.3975\n"
          ]
        }
      ],
      "source": [
        "model_1 = Sequential([\n",
        "  Conv2D(10, 3, activation='relu', input_shape=(224, 224, 3)),\n",
        "  MaxPool2D(pool_size=2),\n",
        "  Conv2D(10, 3, activation='relu'),\n",
        "  MaxPool2D(),\n",
        "  Conv2D(10, 3, activation='relu'),\n",
        "  MaxPool2D(),\n",
        "  Flatten(),\n",
        "  Dense(42, activation='softmax')\n",
        "])\n",
        "\n",
        "# Compile the model\n",
        "model_1.compile(loss='categorical_crossentropy',\n",
        "                optimizer=Adam(),\n",
        "                metrics=['accuracy'])\n",
        "\n",
        "# Fit the model\n",
        "history_1 = model_1.fit(train,\n",
        "                        epochs=5,\n",
        "                        steps_per_epoch=len(train),\n",
        "                        validation_data=validation,\n",
        "                        validation_steps=len(validation),\n",
        "                        callbacks=[early_stop,checkpoints])"
      ]
    },
    {
      "cell_type": "code",
      "execution_count": null,
      "metadata": {
        "colab": {
          "background_save": true
        },
        "id": "R59QwGOrH3A6"
      },
      "outputs": [],
      "source": [
        ""
      ]
    }
  ],
  "metadata": {
    "accelerator": "GPU",
    "colab": {
      "background_execution": "on",
      "name": "model_1.ipynb",
      "provenance": [],
      "authorship_tag": "ABX9TyPlbBeq1Jr7tv4JixtRJ/zL",
      "include_colab_link": true
    },
    "kernelspec": {
      "display_name": "Python 3",
      "name": "python3"
    },
    "language_info": {
      "name": "python"
    }
  },
  "nbformat": 4,
  "nbformat_minor": 0
}