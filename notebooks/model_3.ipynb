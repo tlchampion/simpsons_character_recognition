{
  "cells": [
    {
      "cell_type": "markdown",
      "metadata": {
        "id": "view-in-github",
        "colab_type": "text"
      },
      "source": [
        "<a href=\"https://colab.research.google.com/github/tlchampion/simpsons_character_recognition/blob/main/notebooks/model_3.ipynb\" target=\"_parent\"><img src=\"https://colab.research.google.com/assets/colab-badge.svg\" alt=\"Open In Colab\"/></a>"
      ]
    },
    {
      "cell_type": "markdown",
      "metadata": {
        "id": "BF_3cuU28J4B"
      },
      "source": [
        "# Purpose"
      ]
    },
    {
      "cell_type": "markdown",
      "source": [
        "Model 3 will use the hyperband method to perform hyperparameter tuning on the CNN model.\n",
        "\n",
        "<br>\n"
      ],
      "metadata": {
        "id": "lxljh49gqnet"
      }
    },
    {
      "cell_type": "markdown",
      "metadata": {
        "id": "xNXpmlzr8SMT"
      },
      "source": [
        "# Setup Environment"
      ]
    },
    {
      "cell_type": "markdown",
      "metadata": {
        "id": "ejJ-3hnz8V5J"
      },
      "source": [
        "## Mount google drive"
      ]
    },
    {
      "cell_type": "code",
      "execution_count": 1,
      "metadata": {
        "colab": {
          "base_uri": "https://localhost:8080/"
        },
        "id": "w9s1-Pw27rUW",
        "outputId": "f9f8cc60-be69-4c4e-b04f-eae0e7b865a9"
      },
      "outputs": [
        {
          "output_type": "stream",
          "name": "stdout",
          "text": [
            "Mounted at /content/drive\n"
          ]
        }
      ],
      "source": [
        "from google.colab import drive\n",
        "drive.mount('/content/drive')"
      ]
    },
    {
      "cell_type": "markdown",
      "metadata": {
        "id": "pmLgo9AK8ZNd"
      },
      "source": [
        "## Install and import modules"
      ]
    },
    {
      "cell_type": "code",
      "execution_count": 2,
      "metadata": {
        "colab": {
          "base_uri": "https://localhost:8080/"
        },
        "id": "PqOqWak376OF",
        "outputId": "0182cd15-9c77-4b08-f650-43a77bcbea10"
      },
      "outputs": [
        {
          "output_type": "stream",
          "name": "stdout",
          "text": [
            "Collecting python-dotenv\n",
            "  Downloading python_dotenv-0.19.2-py2.py3-none-any.whl (17 kB)\n",
            "Installing collected packages: python-dotenv\n",
            "Successfully installed python-dotenv-0.19.2\n",
            "Collecting tensorflow-addons\n",
            "  Downloading tensorflow_addons-0.16.1-cp37-cp37m-manylinux_2_12_x86_64.manylinux2010_x86_64.whl (1.1 MB)\n",
            "\u001b[K     |████████████████████████████████| 1.1 MB 14.8 MB/s \n",
            "\u001b[?25hRequirement already satisfied: typeguard>=2.7 in /usr/local/lib/python3.7/dist-packages (from tensorflow-addons) (2.7.1)\n",
            "Installing collected packages: tensorflow-addons\n",
            "Successfully installed tensorflow-addons-0.16.1\n"
          ]
        }
      ],
      "source": [
        "! pip install python-dotenv\n",
        "%pip install tensorflow-addons"
      ]
    },
    {
      "cell_type": "code",
      "execution_count": 3,
      "metadata": {
        "id": "etWlu9T-7yU7"
      },
      "outputs": [],
      "source": [
        "import os\n",
        "import tensorflow as tf\n",
        "import numpy as np\n",
        "import pandas as pd\n",
        "import PIL \n",
        "import PIL.Image\n",
        "import pathlib\n",
        "import matplotlib.pyplot as plt\n",
        "import matplotlib.image as mpimg\n",
        "import random\n",
        "from pathlib import Path\n",
        "from tensorflow.keras.preprocessing.image import ImageDataGenerator\n",
        "import sys\n",
        "sys.path.insert(0,\"/content/drive/My Drive/Projects/simpsons_character_recognition/simpsons_images\")\n",
        "from dotenv import find_dotenv, load_dotenv\n",
        "import datetime\n",
        "import pytz\n",
        "import tensorflow_addons as tfa\n",
        "from tensorflow_addons.metrics import F1Score"
      ]
    },
    {
      "cell_type": "code",
      "execution_count": 4,
      "metadata": {
        "id": "Iti_Qiic8sK-"
      },
      "outputs": [],
      "source": [
        "from d01_data import make_dataset"
      ]
    },
    {
      "cell_type": "code",
      "execution_count": 5,
      "metadata": {
        "id": "r7rWvuuHC3FS"
      },
      "outputs": [],
      "source": [
        "from tensorflow.keras.optimizers import Adam\n",
        "from tensorflow.keras.layers import Dense, Flatten, Conv2D, MaxPool2D, Activation\n",
        "from tensorflow.keras import Sequential\n",
        "from tensorflow.keras.regularizers import l2"
      ]
    },
    {
      "cell_type": "markdown",
      "metadata": {
        "id": "sIhAxMz59jEw"
      },
      "source": [
        "# Copy image files to drive local to colab instance\n",
        "\n",
        "\n",
        "\n"
      ]
    },
    {
      "cell_type": "code",
      "source": [
        "%cp -r /content/drive/MyDrive/Projects/simpsons_character_recognition/data /content/data"
      ],
      "metadata": {
        "id": "55HDki7SpMGu"
      },
      "execution_count": null,
      "outputs": []
    },
    {
      "cell_type": "markdown",
      "metadata": {
        "id": "4rdKDj6n8oIu"
      },
      "source": [
        "# Import Data"
      ]
    },
    {
      "cell_type": "code",
      "execution_count": null,
      "metadata": {
        "id": "PCTPmO2D8p5F"
      },
      "outputs": [],
      "source": [
        "train_directory = os.path.join(os.getcwd(),'data/images/simpsons_dataset')\n",
        "test_directory = os.path.join(os.getcwd(),'data/images/simpsons_testset')\n",
        "test_labels = os.path.join(os.getcwd(),'data/images/test_labels.csv')\n"
      ]
    },
    {
      "cell_type": "code",
      "execution_count": null,
      "metadata": {
        "id": "qoYMc1N79fJF"
      },
      "outputs": [],
      "source": [
        "datagen, datagen_test, train, validation, test = make_dataset.create_datasets(train_directory, test_directory, test_labels)"
      ]
    },
    {
      "cell_type": "markdown",
      "metadata": {
        "id": "GuK5kpzO8hp7"
      },
      "source": [
        "# Setup Model"
      ]
    },
    {
      "cell_type": "code",
      "source": [
        "%load_ext tensorboard"
      ],
      "metadata": {
        "id": "DnPrdoPqPttu"
      },
      "execution_count": null,
      "outputs": []
    },
    {
      "cell_type": "code",
      "source": [
        "\n",
        "\n",
        "early_stop = tf.keras.callbacks.EarlyStopping(\n",
        "    monitor='val_loss', min_delta=0.001, patience=5, verbose=0,\n",
        "    mode='auto', baseline=None, restore_best_weights=True\n",
        ")\n",
        "\n",
        "checkpoint_filepath = '/content/drive/MyDrive/Projects/simpsons_character_recognition/checkpoints/model_3/'\n",
        "checkpoints = tf.keras.callbacks.ModelCheckpoint(\n",
        "    checkpoint_filepath, monitor='val_loss', verbose=0, save_best_only=False,\n",
        "    save_weights_only=True, mode='auto', save_freq='epoch',\n",
        "    options=None, initial_value_threshold=None\n",
        ")\n",
        "\n",
        "\n",
        "log_dir = '/content/drive/MyDrive/Projects/simpsons_character_recognition/logdir/' + 'model_3/' \n",
        "tensorboard_callback = tf.keras.callbacks.TensorBoard(log_dir=log_dir, histogram_freq=1)\n",
        "\n",
        "\n",
        "LR_callback = tf.keras.callbacks.ReduceLROnPlateau(\n",
        "    monitor='val_loss', factor=0.1, patience=5, verbose=0,\n",
        "    mode='auto', min_delta=0.0001, cooldown=0, min_lr=0\n",
        ")"
      ],
      "metadata": {
        "id": "uWQA33zvqQuJ"
      },
      "execution_count": null,
      "outputs": []
    },
    {
      "cell_type": "code",
      "execution_count": null,
      "metadata": {
        "id": "3ZCZOLMb8H2A"
      },
      "outputs": [],
      "source": [
        "def build_model(hp):\n",
        "    units1 = hp.Int('units1', min_value=16, max_value=192, step=16)\n",
        "    units2 = hp.Int('units2', min_value=16, max_value=192, step=16)\n",
        "    units3 = hp.Int('units3', min_value=16, max_value=192, step=16)\n",
        "    lr = hp.Choice('learning rate', values=[1e-2, 1e-3, 1e-4])\n",
        "\n",
        "    model = keras.Sequential()\n",
        "    model.add(keras.layers.Conv2d(units1, 3, activation='relu'))\n",
        "    model.add(keras.layers.MaxPool2D(pool_size=2))\n",
        "    model.add(keras.layers.Conv2d(units2, 3, activation='relu'))\n",
        "    model.add(keras.layers.MaxPool2D(pool_size=2))\n",
        "    model.add(keras.layers.Conv2d(units3, 3, activation='relu'))\n",
        "    model.add(keras.layers.MaxPool2D(pool_size=2))\n",
        "    model.add(keras.layers.Flatten())\n",
        "    model.add(keras.layers.Dense(42, activation='softmax'))\n",
        "\n",
        "\n",
        "\n",
        "    f1_metric = tfa.metrics.F1Score(num_classes=42, average='weighted')\n",
        "\n",
        "\n",
        "\n",
        "\n",
        "    # Compile the model\n",
        "    model.compile(loss='categorical_crossentropy',\n",
        "                optimizer=Adam(learning_rate=lr),\n",
        "                metrics=['accuracy', 'AUC', f1_metric])\n",
        "\n",
        "    return model"
      ]
    },
    {
      "cell_type": "code",
      "execution_count": null,
      "metadata": {
        "id": "R59QwGOrH3A6"
      },
      "outputs": [],
      "source": [
        "tuner = kt.Hyperband(build_model,\n",
        "                      objective='val_accuracy',\n",
        "                      max_epochs=200,\n",
        "                      factor=3,\n",
        "                      directory=\"/content/drive/MyDrive/Projects/simpsons_character_recognition/hp\"),\n",
        "                      project_name='model3')"
      ]
    },
    {
      "cell_type": "code",
      "source": [
        "tuner.search(train, \n",
        "              validation_data=validation,\n",
        "              epochs=200,\n",
        "              callbacks=[tensorboard_callback,early_stop] )"
      ],
      "metadata": {
        "id": "MH_GnCVNy3SZ"
      },
      "execution_count": null,
      "outputs": []
    },
    {
      "cell_type": "code",
      "source": [
        "%tensorboard --logdir '/content/drive/MyDrive/Projects/simpsons_character_recognition/logdir/'\n"
      ],
      "metadata": {
        "id": "mW1-7eanAkXh"
      },
      "execution_count": null,
      "outputs": []
    },
    {
      "cell_type": "code",
      "source": [
        "tuner.results_summary()"
      ],
      "metadata": {
        "id": "kY0JDz9d-UqC"
      },
      "execution_count": null,
      "outputs": []
    },
    {
      "cell_type": "code",
      "source": [
        "tuner.get_best_hyperparameters()[0]"
      ],
      "metadata": {
        "id": "bf_ZyqR4-V4J"
      },
      "execution_count": null,
      "outputs": []
    }
  ],
  "metadata": {
    "accelerator": "GPU",
    "colab": {
      "background_execution": "on",
      "name": "model_3.ipynb",
      "provenance": [],
      "collapsed_sections": [],
      "authorship_tag": "ABX9TyO9+D7CxZgYtXxlEtgTs+Pu",
      "include_colab_link": true
    },
    "kernelspec": {
      "display_name": "Python 3",
      "name": "python3"
    },
    "language_info": {
      "name": "python"
    }
  },
  "nbformat": 4,
  "nbformat_minor": 0
}