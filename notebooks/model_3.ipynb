{
  "cells": [
    {
      "cell_type": "markdown",
      "metadata": {
        "id": "view-in-github",
        "colab_type": "text"
      },
      "source": [
        "<a href=\"https://colab.research.google.com/github/tlchampion/simpsons_character_recognition/blob/main/notebooks/model_3.ipynb\" target=\"_parent\"><img src=\"https://colab.research.google.com/assets/colab-badge.svg\" alt=\"Open In Colab\"/></a>"
      ]
    },
    {
      "cell_type": "markdown",
      "metadata": {
        "id": "BF_3cuU28J4B"
      },
      "source": [
        "# Purpose"
      ]
    },
    {
      "cell_type": "markdown",
      "source": [
        "Model 3 will use the hyperband method to perform hyperparameter tuning on the CNN model.\n",
        "\n",
        "<br>\n"
      ],
      "metadata": {
        "id": "lxljh49gqnet"
      }
    },
    {
      "cell_type": "markdown",
      "metadata": {
        "id": "xNXpmlzr8SMT"
      },
      "source": [
        "# Setup Environment"
      ]
    },
    {
      "cell_type": "markdown",
      "metadata": {
        "id": "ejJ-3hnz8V5J"
      },
      "source": [
        "## Mount google drive"
      ]
    },
    {
      "cell_type": "code",
      "execution_count": 1,
      "metadata": {
        "colab": {
          "base_uri": "https://localhost:8080/"
        },
        "id": "w9s1-Pw27rUW",
        "outputId": "f9f8cc60-be69-4c4e-b04f-eae0e7b865a9"
      },
      "outputs": [
        {
          "output_type": "stream",
          "name": "stdout",
          "text": [
            "Mounted at /content/drive\n"
          ]
        }
      ],
      "source": [
        "from google.colab import drive\n",
        "drive.mount('/content/drive')"
      ]
    },
    {
      "cell_type": "markdown",
      "metadata": {
        "id": "pmLgo9AK8ZNd"
      },
      "source": [
        "## Install and import modules"
      ]
    },
    {
      "cell_type": "code",
      "execution_count": 2,
      "metadata": {
        "colab": {
          "base_uri": "https://localhost:8080/"
        },
        "id": "PqOqWak376OF",
        "outputId": "0182cd15-9c77-4b08-f650-43a77bcbea10"
      },
      "outputs": [
        {
          "output_type": "stream",
          "name": "stdout",
          "text": [
            "Collecting python-dotenv\n",
            "  Downloading python_dotenv-0.19.2-py2.py3-none-any.whl (17 kB)\n",
            "Installing collected packages: python-dotenv\n",
            "Successfully installed python-dotenv-0.19.2\n",
            "Collecting tensorflow-addons\n",
            "  Downloading tensorflow_addons-0.16.1-cp37-cp37m-manylinux_2_12_x86_64.manylinux2010_x86_64.whl (1.1 MB)\n",
            "\u001b[K     |████████████████████████████████| 1.1 MB 14.8 MB/s \n",
            "\u001b[?25hRequirement already satisfied: typeguard>=2.7 in /usr/local/lib/python3.7/dist-packages (from tensorflow-addons) (2.7.1)\n",
            "Installing collected packages: tensorflow-addons\n",
            "Successfully installed tensorflow-addons-0.16.1\n"
          ]
        }
      ],
      "source": [
        "! pip install python-dotenv\n",
        "%pip install tensorflow-addons"
      ]
    },
    {
      "cell_type": "code",
      "execution_count": 3,
      "metadata": {
        "id": "etWlu9T-7yU7"
      },
      "outputs": [],
      "source": [
        "import os\n",
        "import tensorflow as tf\n",
        "import numpy as np\n",
        "import pandas as pd\n",
        "import PIL \n",
        "import PIL.Image\n",
        "import pathlib\n",
        "import matplotlib.pyplot as plt\n",
        "import matplotlib.image as mpimg\n",
        "import random\n",
        "from pathlib import Path\n",
        "from tensorflow.keras.preprocessing.image import ImageDataGenerator\n",
        "import sys\n",
        "sys.path.insert(0,\"/content/drive/My Drive/Projects/simpsons_character_recognition/simpsons_images\")\n",
        "from dotenv import find_dotenv, load_dotenv\n",
        "import datetime\n",
        "import pytz\n",
        "import tensorflow_addons as tfa\n",
        "from tensorflow_addons.metrics import F1Score"
      ]
    },
    {
      "cell_type": "code",
      "execution_count": 4,
      "metadata": {
        "id": "Iti_Qiic8sK-"
      },
      "outputs": [],
      "source": [
        "from d01_data import make_dataset"
      ]
    },
    {
      "cell_type": "code",
      "source": [
        "pip install keras_tuner"
      ],
      "metadata": {
        "colab": {
          "base_uri": "https://localhost:8080/"
        },
        "id": "-TJkUU6u2mBA",
        "outputId": "79ad3b1b-0c38-4fd5-f1d0-5ee8c6f85c8b"
      },
      "execution_count": 15,
      "outputs": [
        {
          "output_type": "stream",
          "name": "stdout",
          "text": [
            "Collecting keras_tuner\n",
            "  Downloading keras_tuner-1.1.0-py3-none-any.whl (98 kB)\n",
            "\u001b[?25l\r\u001b[K     |███▍                            | 10 kB 28.7 MB/s eta 0:00:01\r\u001b[K     |██████▊                         | 20 kB 35.6 MB/s eta 0:00:01\r\u001b[K     |██████████                      | 30 kB 26.3 MB/s eta 0:00:01\r\u001b[K     |█████████████▍                  | 40 kB 14.6 MB/s eta 0:00:01\r\u001b[K     |████████████████▊               | 51 kB 13.0 MB/s eta 0:00:01\r\u001b[K     |████████████████████            | 61 kB 15.1 MB/s eta 0:00:01\r\u001b[K     |███████████████████████▍        | 71 kB 14.9 MB/s eta 0:00:01\r\u001b[K     |██████████████████████████▊     | 81 kB 14.3 MB/s eta 0:00:01\r\u001b[K     |██████████████████████████████  | 92 kB 15.7 MB/s eta 0:00:01\r\u001b[K     |████████████████████████████████| 98 kB 6.4 MB/s \n",
            "\u001b[?25hCollecting kt-legacy\n",
            "  Downloading kt_legacy-1.0.4-py3-none-any.whl (9.6 kB)\n",
            "Requirement already satisfied: tensorboard in /usr/local/lib/python3.7/dist-packages (from keras_tuner) (2.8.0)\n",
            "Requirement already satisfied: numpy in /usr/local/lib/python3.7/dist-packages (from keras_tuner) (1.21.5)\n",
            "Requirement already satisfied: packaging in /usr/local/lib/python3.7/dist-packages (from keras_tuner) (21.3)\n",
            "Requirement already satisfied: requests in /usr/local/lib/python3.7/dist-packages (from keras_tuner) (2.23.0)\n",
            "Requirement already satisfied: scipy in /usr/local/lib/python3.7/dist-packages (from keras_tuner) (1.4.1)\n",
            "Requirement already satisfied: ipython in /usr/local/lib/python3.7/dist-packages (from keras_tuner) (5.5.0)\n",
            "Requirement already satisfied: pickleshare in /usr/local/lib/python3.7/dist-packages (from ipython->keras_tuner) (0.7.5)\n",
            "Requirement already satisfied: traitlets>=4.2 in /usr/local/lib/python3.7/dist-packages (from ipython->keras_tuner) (5.1.1)\n",
            "Requirement already satisfied: prompt-toolkit<2.0.0,>=1.0.4 in /usr/local/lib/python3.7/dist-packages (from ipython->keras_tuner) (1.0.18)\n",
            "Requirement already satisfied: pygments in /usr/local/lib/python3.7/dist-packages (from ipython->keras_tuner) (2.6.1)\n",
            "Requirement already satisfied: setuptools>=18.5 in /usr/local/lib/python3.7/dist-packages (from ipython->keras_tuner) (57.4.0)\n",
            "Requirement already satisfied: decorator in /usr/local/lib/python3.7/dist-packages (from ipython->keras_tuner) (4.4.2)\n",
            "Requirement already satisfied: simplegeneric>0.8 in /usr/local/lib/python3.7/dist-packages (from ipython->keras_tuner) (0.8.1)\n",
            "Requirement already satisfied: pexpect in /usr/local/lib/python3.7/dist-packages (from ipython->keras_tuner) (4.8.0)\n",
            "Requirement already satisfied: six>=1.9.0 in /usr/local/lib/python3.7/dist-packages (from prompt-toolkit<2.0.0,>=1.0.4->ipython->keras_tuner) (1.15.0)\n",
            "Requirement already satisfied: wcwidth in /usr/local/lib/python3.7/dist-packages (from prompt-toolkit<2.0.0,>=1.0.4->ipython->keras_tuner) (0.2.5)\n",
            "Requirement already satisfied: pyparsing!=3.0.5,>=2.0.2 in /usr/local/lib/python3.7/dist-packages (from packaging->keras_tuner) (3.0.7)\n",
            "Requirement already satisfied: ptyprocess>=0.5 in /usr/local/lib/python3.7/dist-packages (from pexpect->ipython->keras_tuner) (0.7.0)\n",
            "Requirement already satisfied: chardet<4,>=3.0.2 in /usr/local/lib/python3.7/dist-packages (from requests->keras_tuner) (3.0.4)\n",
            "Requirement already satisfied: certifi>=2017.4.17 in /usr/local/lib/python3.7/dist-packages (from requests->keras_tuner) (2021.10.8)\n",
            "Requirement already satisfied: idna<3,>=2.5 in /usr/local/lib/python3.7/dist-packages (from requests->keras_tuner) (2.10)\n",
            "Requirement already satisfied: urllib3!=1.25.0,!=1.25.1,<1.26,>=1.21.1 in /usr/local/lib/python3.7/dist-packages (from requests->keras_tuner) (1.24.3)\n",
            "Requirement already satisfied: google-auth-oauthlib<0.5,>=0.4.1 in /usr/local/lib/python3.7/dist-packages (from tensorboard->keras_tuner) (0.4.6)\n",
            "Requirement already satisfied: grpcio>=1.24.3 in /usr/local/lib/python3.7/dist-packages (from tensorboard->keras_tuner) (1.43.0)\n",
            "Requirement already satisfied: markdown>=2.6.8 in /usr/local/lib/python3.7/dist-packages (from tensorboard->keras_tuner) (3.3.6)\n",
            "Requirement already satisfied: tensorboard-plugin-wit>=1.6.0 in /usr/local/lib/python3.7/dist-packages (from tensorboard->keras_tuner) (1.8.1)\n",
            "Requirement already satisfied: wheel>=0.26 in /usr/local/lib/python3.7/dist-packages (from tensorboard->keras_tuner) (0.37.1)\n",
            "Requirement already satisfied: google-auth<3,>=1.6.3 in /usr/local/lib/python3.7/dist-packages (from tensorboard->keras_tuner) (1.35.0)\n",
            "Requirement already satisfied: protobuf>=3.6.0 in /usr/local/lib/python3.7/dist-packages (from tensorboard->keras_tuner) (3.17.3)\n",
            "Requirement already satisfied: werkzeug>=0.11.15 in /usr/local/lib/python3.7/dist-packages (from tensorboard->keras_tuner) (1.0.1)\n",
            "Requirement already satisfied: absl-py>=0.4 in /usr/local/lib/python3.7/dist-packages (from tensorboard->keras_tuner) (1.0.0)\n",
            "Requirement already satisfied: tensorboard-data-server<0.7.0,>=0.6.0 in /usr/local/lib/python3.7/dist-packages (from tensorboard->keras_tuner) (0.6.1)\n",
            "Requirement already satisfied: cachetools<5.0,>=2.0.0 in /usr/local/lib/python3.7/dist-packages (from google-auth<3,>=1.6.3->tensorboard->keras_tuner) (4.2.4)\n",
            "Requirement already satisfied: rsa<5,>=3.1.4 in /usr/local/lib/python3.7/dist-packages (from google-auth<3,>=1.6.3->tensorboard->keras_tuner) (4.8)\n",
            "Requirement already satisfied: pyasn1-modules>=0.2.1 in /usr/local/lib/python3.7/dist-packages (from google-auth<3,>=1.6.3->tensorboard->keras_tuner) (0.2.8)\n",
            "Requirement already satisfied: requests-oauthlib>=0.7.0 in /usr/local/lib/python3.7/dist-packages (from google-auth-oauthlib<0.5,>=0.4.1->tensorboard->keras_tuner) (1.3.1)\n",
            "Requirement already satisfied: importlib-metadata>=4.4 in /usr/local/lib/python3.7/dist-packages (from markdown>=2.6.8->tensorboard->keras_tuner) (4.11.1)\n",
            "Requirement already satisfied: zipp>=0.5 in /usr/local/lib/python3.7/dist-packages (from importlib-metadata>=4.4->markdown>=2.6.8->tensorboard->keras_tuner) (3.7.0)\n",
            "Requirement already satisfied: typing-extensions>=3.6.4 in /usr/local/lib/python3.7/dist-packages (from importlib-metadata>=4.4->markdown>=2.6.8->tensorboard->keras_tuner) (3.10.0.2)\n",
            "Requirement already satisfied: pyasn1<0.5.0,>=0.4.6 in /usr/local/lib/python3.7/dist-packages (from pyasn1-modules>=0.2.1->google-auth<3,>=1.6.3->tensorboard->keras_tuner) (0.4.8)\n",
            "Requirement already satisfied: oauthlib>=3.0.0 in /usr/local/lib/python3.7/dist-packages (from requests-oauthlib>=0.7.0->google-auth-oauthlib<0.5,>=0.4.1->tensorboard->keras_tuner) (3.2.0)\n",
            "Installing collected packages: kt-legacy, keras-tuner\n",
            "Successfully installed keras-tuner-1.1.0 kt-legacy-1.0.4\n"
          ]
        }
      ]
    },
    {
      "cell_type": "code",
      "execution_count": 18,
      "metadata": {
        "id": "r7rWvuuHC3FS"
      },
      "outputs": [],
      "source": [
        "from tensorflow.keras.optimizers import Adam\n",
        "from tensorflow.keras.layers import Dense, Flatten, Conv2D, MaxPool2D, Activation\n",
        "from tensorflow.keras import Sequential\n",
        "from tensorflow.keras.regularizers import l2\n",
        "import keras_tuner as kt\n",
        "from tensorflow import keras"
      ]
    },
    {
      "cell_type": "markdown",
      "metadata": {
        "id": "sIhAxMz59jEw"
      },
      "source": [
        "# Copy image files to drive local to colab instance\n",
        "\n",
        "\n",
        "\n"
      ]
    },
    {
      "cell_type": "code",
      "source": [
        "%cp -r /content/drive/MyDrive/Projects/simpsons_character_recognition/data /content/data"
      ],
      "metadata": {
        "id": "55HDki7SpMGu"
      },
      "execution_count": 6,
      "outputs": []
    },
    {
      "cell_type": "markdown",
      "metadata": {
        "id": "4rdKDj6n8oIu"
      },
      "source": [
        "# Import Data"
      ]
    },
    {
      "cell_type": "code",
      "execution_count": 7,
      "metadata": {
        "id": "PCTPmO2D8p5F"
      },
      "outputs": [],
      "source": [
        "train_directory = os.path.join(os.getcwd(),'data/images/simpsons_dataset')\n",
        "test_directory = os.path.join(os.getcwd(),'data/images/simpsons_testset')\n",
        "test_labels = os.path.join(os.getcwd(),'data/images/test_labels.csv')\n"
      ]
    },
    {
      "cell_type": "code",
      "execution_count": 8,
      "metadata": {
        "colab": {
          "base_uri": "https://localhost:8080/"
        },
        "id": "qoYMc1N79fJF",
        "outputId": "93a05c65-348e-4ef8-a599-ab12fde21f28"
      },
      "outputs": [
        {
          "output_type": "stream",
          "name": "stdout",
          "text": [
            "Found 16764 images belonging to 42 classes.\n",
            "Found 4169 images belonging to 42 classes.\n",
            "Found 990 validated image filenames.\n"
          ]
        }
      ],
      "source": [
        "datagen, datagen_test, train, validation, test = make_dataset.create_datasets(train_directory, test_directory, test_labels)"
      ]
    },
    {
      "cell_type": "markdown",
      "metadata": {
        "id": "GuK5kpzO8hp7"
      },
      "source": [
        "# Setup Model"
      ]
    },
    {
      "cell_type": "code",
      "source": [
        "%load_ext tensorboard"
      ],
      "metadata": {
        "id": "DnPrdoPqPttu"
      },
      "execution_count": 9,
      "outputs": []
    },
    {
      "cell_type": "code",
      "source": [
        "\n",
        "\n",
        "early_stop = tf.keras.callbacks.EarlyStopping(\n",
        "    monitor='val_loss', min_delta=0.001, patience=5, verbose=0,\n",
        "    mode='auto', baseline=None, restore_best_weights=True\n",
        ")\n",
        "\n",
        "checkpoint_filepath = '/content/drive/MyDrive/Projects/simpsons_character_recognition/checkpoints/model_3/'\n",
        "checkpoints = tf.keras.callbacks.ModelCheckpoint(\n",
        "    checkpoint_filepath, monitor='val_loss', verbose=0, save_best_only=False,\n",
        "    save_weights_only=True, mode='auto', save_freq='epoch',\n",
        "    options=None, initial_value_threshold=None\n",
        ")\n",
        "\n",
        "\n",
        "log_dir = '/content/drive/MyDrive/Projects/simpsons_character_recognition/logdir/' + 'model_3/' \n",
        "tensorboard_callback = tf.keras.callbacks.TensorBoard(log_dir=log_dir, histogram_freq=1)\n",
        "\n",
        "\n",
        "LR_callback = tf.keras.callbacks.ReduceLROnPlateau(\n",
        "    monitor='val_loss', factor=0.1, patience=5, verbose=0,\n",
        "    mode='auto', min_delta=0.0001, cooldown=0, min_lr=0\n",
        ")"
      ],
      "metadata": {
        "id": "uWQA33zvqQuJ"
      },
      "execution_count": 10,
      "outputs": []
    },
    {
      "cell_type": "code",
      "execution_count": 23,
      "metadata": {
        "id": "3ZCZOLMb8H2A"
      },
      "outputs": [],
      "source": [
        "def build_model(hp):\n",
        "    units1 = hp.Int('units1', min_value=16, max_value=192, step=16)\n",
        "    units2 = hp.Int('units2', min_value=16, max_value=192, step=16)\n",
        "    units3 = hp.Int('units3', min_value=16, max_value=192, step=16)\n",
        "    lr = hp.Choice('learning rate', values=[1e-2, 1e-3, 1e-4])\n",
        "\n",
        "    model = keras.Sequential()\n",
        "    model.add(Conv2D(units1, 3, activation='relu'))\n",
        "    model.add(MaxPool2D(pool_size=2))\n",
        "    model.add(Conv2D(units2, 3, activation='relu'))\n",
        "    model.add(MaxPool2D(pool_size=2))\n",
        "    model.add(Conv2D(units3, 3, activation='relu'))\n",
        "    model.add(MaxPool2D(pool_size=2))\n",
        "    model.add(Flatten())\n",
        "    model.add(Dense(42, activation='softmax'))\n",
        "\n",
        "\n",
        "\n",
        "    f1_metric = tfa.metrics.F1Score(num_classes=42, average='weighted')\n",
        "\n",
        "\n",
        "\n",
        "\n",
        "    # Compile the model\n",
        "    model.compile(loss='categorical_crossentropy',\n",
        "                optimizer=Adam(learning_rate=lr),\n",
        "                metrics=['accuracy', 'AUC', f1_metric])\n",
        "\n",
        "    return model"
      ]
    },
    {
      "cell_type": "code",
      "execution_count": 24,
      "metadata": {
        "id": "R59QwGOrH3A6"
      },
      "outputs": [],
      "source": [
        "tuner = kt.Hyperband(build_model,\n",
        "                      objective='val_accuracy',\n",
        "                      max_epochs=200,\n",
        "                      factor=3,\n",
        "                      directory=\"/content/drive/MyDrive/Projects/simpsons_character_recognition/hp\",\n",
        "                      project_name='model3')"
      ]
    },
    {
      "cell_type": "code",
      "source": [
        "tuner.search(train, \n",
        "              validation_data=validation,\n",
        "              epochs=200,\n",
        "              callbacks=[tensorboard_callback,early_stop] )"
      ],
      "metadata": {
        "colab": {
          "base_uri": "https://localhost:8080/"
        },
        "id": "MH_GnCVNy3SZ",
        "outputId": "5ad74c59-71c8-4862-de12-ce87dcc7ce73"
      },
      "execution_count": null,
      "outputs": [
        {
          "output_type": "stream",
          "name": "stdout",
          "text": [
            "\n",
            "Search: Running Trial #1\n",
            "\n",
            "Hyperparameter    |Value             |Best Value So Far \n",
            "units1            |80                |?                 \n",
            "units2            |64                |?                 \n",
            "units3            |176               |?                 \n",
            "learning rate     |0.001             |?                 \n",
            "tuner/epochs      |3                 |?                 \n",
            "tuner/initial_e...|0                 |?                 \n",
            "tuner/bracket     |4                 |?                 \n",
            "tuner/round       |0                 |?                 \n",
            "\n",
            "Epoch 1/3\n",
            "524/524 [==============================] - 83s 152ms/step - loss: 2.4846 - accuracy: 0.3218 - auc: 0.8863 - f1_score: 0.2998 - val_loss: 2.3384 - val_accuracy: 0.3838 - val_auc: 0.8955 - val_f1_score: 0.3788\n",
            "Epoch 2/3\n",
            "524/524 [==============================] - 79s 152ms/step - loss: 1.5995 - accuracy: 0.5741 - auc: 0.9488 - f1_score: 0.5646 - val_loss: 1.9165 - val_accuracy: 0.5179 - val_auc: 0.9233 - val_f1_score: 0.5079\n",
            "Epoch 3/3\n",
            "378/524 [====================>.........] - ETA: 17s - loss: 1.1469 - accuracy: 0.6968 - auc: 0.9691 - f1_score: 0.6929"
          ]
        }
      ]
    },
    {
      "cell_type": "code",
      "source": [
        "%tensorboard --logdir '/content/drive/MyDrive/Projects/simpsons_character_recognition/logdir/'\n"
      ],
      "metadata": {
        "id": "mW1-7eanAkXh"
      },
      "execution_count": null,
      "outputs": []
    },
    {
      "cell_type": "code",
      "source": [
        "tuner.results_summary()"
      ],
      "metadata": {
        "id": "kY0JDz9d-UqC"
      },
      "execution_count": null,
      "outputs": []
    },
    {
      "cell_type": "code",
      "source": [
        "tuner.get_best_hyperparameters()[0]"
      ],
      "metadata": {
        "id": "bf_ZyqR4-V4J"
      },
      "execution_count": null,
      "outputs": []
    }
  ],
  "metadata": {
    "accelerator": "GPU",
    "colab": {
      "background_execution": "on",
      "name": "model_3.ipynb",
      "provenance": [],
      "collapsed_sections": [],
      "authorship_tag": "ABX9TyNdA1Munh3Ws6rtQzoxdZnM",
      "include_colab_link": true
    },
    "kernelspec": {
      "display_name": "Python 3",
      "name": "python3"
    },
    "language_info": {
      "name": "python"
    }
  },
  "nbformat": 4,
  "nbformat_minor": 0
}